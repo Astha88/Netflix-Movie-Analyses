{
 "cells": [
  {
   "cell_type": "code",
   "execution_count": 57,
   "id": "ecab2bcb",
   "metadata": {},
   "outputs": [],
   "source": [
    "import numpy as np\n",
    "import pandas as pd \n",
    "import matplotlib.pyplot as plt\n",
    "import seaborn as sns"
   ]
  },
  {
   "cell_type": "code",
   "execution_count": null,
   "id": "015c6d3c",
   "metadata": {},
   "outputs": [
    {
     "data": {
      "text/html": [
       "<div>\n",
       "<style scoped>\n",
       "    .dataframe tbody tr th:only-of-type {\n",
       "        vertical-align: middle;\n",
       "    }\n",
       "\n",
       "    .dataframe tbody tr th {\n",
       "        vertical-align: top;\n",
       "    }\n",
       "\n",
       "    .dataframe thead th {\n",
       "        text-align: right;\n",
       "    }\n",
       "</style>\n",
       "<table border=\"1\" class=\"dataframe\">\n",
       "  <thead>\n",
       "    <tr style=\"text-align: right;\">\n",
       "      <th></th>\n",
       "      <th>title</th>\n",
       "      <th>type</th>\n",
       "      <th>genres</th>\n",
       "      <th>releaseYear</th>\n",
       "      <th>imdbId</th>\n",
       "      <th>imdbAverageRating</th>\n",
       "      <th>imdbNumVotes</th>\n",
       "      <th>availableCountries</th>\n",
       "    </tr>\n",
       "  </thead>\n",
       "  <tbody>\n",
       "    <tr>\n",
       "      <th>0</th>\n",
       "      <td>Ariel</td>\n",
       "      <td>movie</td>\n",
       "      <td>Comedy, Crime, Drama</td>\n",
       "      <td>1988.0</td>\n",
       "      <td>tt0094675</td>\n",
       "      <td>7.4</td>\n",
       "      <td>9229.0</td>\n",
       "      <td>NaN</td>\n",
       "    </tr>\n",
       "    <tr>\n",
       "      <th>1</th>\n",
       "      <td>Shadows in Paradise</td>\n",
       "      <td>movie</td>\n",
       "      <td>Comedy, Drama, Music</td>\n",
       "      <td>1986.0</td>\n",
       "      <td>tt0092149</td>\n",
       "      <td>7.4</td>\n",
       "      <td>8058.0</td>\n",
       "      <td>NaN</td>\n",
       "    </tr>\n",
       "    <tr>\n",
       "      <th>2</th>\n",
       "      <td>Forrest Gump</td>\n",
       "      <td>movie</td>\n",
       "      <td>Drama, Romance</td>\n",
       "      <td>1994.0</td>\n",
       "      <td>tt0109830</td>\n",
       "      <td>8.8</td>\n",
       "      <td>2387933.0</td>\n",
       "      <td>NaN</td>\n",
       "    </tr>\n",
       "    <tr>\n",
       "      <th>3</th>\n",
       "      <td>American Beauty</td>\n",
       "      <td>movie</td>\n",
       "      <td>Drama</td>\n",
       "      <td>1999.0</td>\n",
       "      <td>tt0169547</td>\n",
       "      <td>8.3</td>\n",
       "      <td>1251509.0</td>\n",
       "      <td>NaN</td>\n",
       "    </tr>\n",
       "    <tr>\n",
       "      <th>4</th>\n",
       "      <td>The Fifth Element</td>\n",
       "      <td>movie</td>\n",
       "      <td>Action, Adventure, Sci-Fi</td>\n",
       "      <td>1997.0</td>\n",
       "      <td>tt0119116</td>\n",
       "      <td>7.6</td>\n",
       "      <td>528480.0</td>\n",
       "      <td>NaN</td>\n",
       "    </tr>\n",
       "  </tbody>\n",
       "</table>\n",
       "</div>"
      ],
      "text/plain": [
       "                 title   type                     genres  releaseYear  \\\n",
       "0                Ariel  movie       Comedy, Crime, Drama       1988.0   \n",
       "1  Shadows in Paradise  movie       Comedy, Drama, Music       1986.0   \n",
       "2         Forrest Gump  movie             Drama, Romance       1994.0   \n",
       "3      American Beauty  movie                      Drama       1999.0   \n",
       "4    The Fifth Element  movie  Action, Adventure, Sci-Fi       1997.0   \n",
       "\n",
       "      imdbId  imdbAverageRating  imdbNumVotes availableCountries  \n",
       "0  tt0094675                7.4        9229.0                NaN  \n",
       "1  tt0092149                7.4        8058.0                NaN  \n",
       "2  tt0109830                8.8     2387933.0                NaN  \n",
       "3  tt0169547                8.3     1251509.0                NaN  \n",
       "4  tt0119116                7.6      528480.0                NaN  "
      ]
     },
     "execution_count": 3,
     "metadata": {},
     "output_type": "execute_result"
    }
   ],
   "source": [
    "# Correct the file path\n",
    "df = pd.read_csv(r'C:\\Users\\astha\\Downloads\\data.csv')\n",
    "df.head()"
   ]
  },
  {
   "cell_type": "code",
   "execution_count": 4,
   "id": "96ec5511",
   "metadata": {},
   "outputs": [
    {
     "name": "stdout",
     "output_type": "stream",
     "text": [
      "<class 'pandas.core.frame.DataFrame'>\n",
      "RangeIndex: 21899 entries, 0 to 21898\n",
      "Data columns (total 8 columns):\n",
      " #   Column              Non-Null Count  Dtype  \n",
      "---  ------              --------------  -----  \n",
      " 0   title               21168 non-null  object \n",
      " 1   type                21899 non-null  object \n",
      " 2   genres              21528 non-null  object \n",
      " 3   releaseYear         21859 non-null  float64\n",
      " 4   imdbId              20261 non-null  object \n",
      " 5   imdbAverageRating   20082 non-null  float64\n",
      " 6   imdbNumVotes        20082 non-null  float64\n",
      " 7   availableCountries  155 non-null    object \n",
      "dtypes: float64(3), object(5)\n",
      "memory usage: 1.3+ MB\n"
     ]
    }
   ],
   "source": [
    "df.info()"
   ]
  },
  {
   "cell_type": "code",
   "execution_count": 6,
   "id": "49cdf40a",
   "metadata": {},
   "outputs": [
    {
     "data": {
      "text/plain": [
       "0             Comedy, Crime, Drama\n",
       "1             Comedy, Drama, Music\n",
       "2                   Drama, Romance\n",
       "3                            Drama\n",
       "4        Action, Adventure, Sci-Fi\n",
       "                   ...            \n",
       "21894                   Reality-TV\n",
       "21895           Crime, Documentary\n",
       "21896    Animation, Crime, Mystery\n",
       "21897                          NaN\n",
       "21898        Crime, Drama, Mystery\n",
       "Name: genres, Length: 21899, dtype: object"
      ]
     },
     "execution_count": 6,
     "metadata": {},
     "output_type": "execute_result"
    }
   ],
   "source": [
    "df['genres']"
   ]
  },
  {
   "cell_type": "code",
   "execution_count": 10,
   "id": "e4956ee1",
   "metadata": {},
   "outputs": [
    {
     "data": {
      "text/plain": [
       "0        False\n",
       "1        False\n",
       "2        False\n",
       "3        False\n",
       "4        False\n",
       "         ...  \n",
       "21894    False\n",
       "21895    False\n",
       "21896    False\n",
       "21897     True\n",
       "21898    False\n",
       "Length: 21899, dtype: bool"
      ]
     },
     "execution_count": 10,
     "metadata": {},
     "output_type": "execute_result"
    }
   ],
   "source": [
    "df.duplicated()"
   ]
  },
  {
   "cell_type": "code",
   "execution_count": 11,
   "id": "9d65e3f0",
   "metadata": {},
   "outputs": [
    {
     "data": {
      "text/html": [
       "<div>\n",
       "<style scoped>\n",
       "    .dataframe tbody tr th:only-of-type {\n",
       "        vertical-align: middle;\n",
       "    }\n",
       "\n",
       "    .dataframe tbody tr th {\n",
       "        vertical-align: top;\n",
       "    }\n",
       "\n",
       "    .dataframe thead th {\n",
       "        text-align: right;\n",
       "    }\n",
       "</style>\n",
       "<table border=\"1\" class=\"dataframe\">\n",
       "  <thead>\n",
       "    <tr style=\"text-align: right;\">\n",
       "      <th></th>\n",
       "      <th>releaseYear</th>\n",
       "      <th>imdbAverageRating</th>\n",
       "      <th>imdbNumVotes</th>\n",
       "    </tr>\n",
       "  </thead>\n",
       "  <tbody>\n",
       "    <tr>\n",
       "      <th>count</th>\n",
       "      <td>21859.000000</td>\n",
       "      <td>20082.000000</td>\n",
       "      <td>2.008200e+04</td>\n",
       "    </tr>\n",
       "    <tr>\n",
       "      <th>mean</th>\n",
       "      <td>2013.353676</td>\n",
       "      <td>6.400269</td>\n",
       "      <td>3.240904e+04</td>\n",
       "    </tr>\n",
       "    <tr>\n",
       "      <th>std</th>\n",
       "      <td>14.329685</td>\n",
       "      <td>1.091582</td>\n",
       "      <td>1.222400e+05</td>\n",
       "    </tr>\n",
       "    <tr>\n",
       "      <th>min</th>\n",
       "      <td>1913.000000</td>\n",
       "      <td>1.000000</td>\n",
       "      <td>5.000000e+00</td>\n",
       "    </tr>\n",
       "    <tr>\n",
       "      <th>25%</th>\n",
       "      <td>2011.000000</td>\n",
       "      <td>5.700000</td>\n",
       "      <td>3.340000e+02</td>\n",
       "    </tr>\n",
       "    <tr>\n",
       "      <th>50%</th>\n",
       "      <td>2018.000000</td>\n",
       "      <td>6.500000</td>\n",
       "      <td>1.619500e+03</td>\n",
       "    </tr>\n",
       "    <tr>\n",
       "      <th>75%</th>\n",
       "      <td>2022.000000</td>\n",
       "      <td>7.200000</td>\n",
       "      <td>1.045700e+04</td>\n",
       "    </tr>\n",
       "    <tr>\n",
       "      <th>max</th>\n",
       "      <td>2025.000000</td>\n",
       "      <td>9.800000</td>\n",
       "      <td>3.056199e+06</td>\n",
       "    </tr>\n",
       "  </tbody>\n",
       "</table>\n",
       "</div>"
      ],
      "text/plain": [
       "        releaseYear  imdbAverageRating  imdbNumVotes\n",
       "count  21859.000000       20082.000000  2.008200e+04\n",
       "mean    2013.353676           6.400269  3.240904e+04\n",
       "std       14.329685           1.091582  1.222400e+05\n",
       "min     1913.000000           1.000000  5.000000e+00\n",
       "25%     2011.000000           5.700000  3.340000e+02\n",
       "50%     2018.000000           6.500000  1.619500e+03\n",
       "75%     2022.000000           7.200000  1.045700e+04\n",
       "max     2025.000000           9.800000  3.056199e+06"
      ]
     },
     "execution_count": 11,
     "metadata": {},
     "output_type": "execute_result"
    }
   ],
   "source": [
    "df.describe()"
   ]
  },
  {
   "cell_type": "code",
   "execution_count": 13,
   "id": "19a035d2",
   "metadata": {},
   "outputs": [
    {
     "name": "stdout",
     "output_type": "stream",
     "text": [
      "datetime64[ns]\n"
     ]
    }
   ],
   "source": [
    "df['releaseYear'] = pd.to_datetime(df['releaseYear'])\n",
    "\n",
    "print(df['releaseYear'].dtypes)\n"
   ]
  },
  {
   "cell_type": "code",
   "execution_count": 19,
   "id": "cd62c3f3",
   "metadata": {},
   "outputs": [
    {
     "data": {
      "text/html": [
       "<div>\n",
       "<style scoped>\n",
       "    .dataframe tbody tr th:only-of-type {\n",
       "        vertical-align: middle;\n",
       "    }\n",
       "\n",
       "    .dataframe tbody tr th {\n",
       "        vertical-align: top;\n",
       "    }\n",
       "\n",
       "    .dataframe thead th {\n",
       "        text-align: right;\n",
       "    }\n",
       "</style>\n",
       "<table border=\"1\" class=\"dataframe\">\n",
       "  <thead>\n",
       "    <tr style=\"text-align: right;\">\n",
       "      <th></th>\n",
       "      <th>title</th>\n",
       "      <th>type</th>\n",
       "      <th>genres</th>\n",
       "      <th>releaseYear</th>\n",
       "      <th>imdbId</th>\n",
       "      <th>imdbAverageRating</th>\n",
       "      <th>imdbNumVotes</th>\n",
       "      <th>availableCountries</th>\n",
       "    </tr>\n",
       "  </thead>\n",
       "  <tbody>\n",
       "    <tr>\n",
       "      <th>0</th>\n",
       "      <td>Ariel</td>\n",
       "      <td>movie</td>\n",
       "      <td>Comedy, Crime, Drama</td>\n",
       "      <td>1970.0</td>\n",
       "      <td>tt0094675</td>\n",
       "      <td>7.4</td>\n",
       "      <td>9229.0</td>\n",
       "      <td>NaN</td>\n",
       "    </tr>\n",
       "    <tr>\n",
       "      <th>1</th>\n",
       "      <td>Shadows in Paradise</td>\n",
       "      <td>movie</td>\n",
       "      <td>Comedy, Drama, Music</td>\n",
       "      <td>1970.0</td>\n",
       "      <td>tt0092149</td>\n",
       "      <td>7.4</td>\n",
       "      <td>8058.0</td>\n",
       "      <td>NaN</td>\n",
       "    </tr>\n",
       "    <tr>\n",
       "      <th>2</th>\n",
       "      <td>Forrest Gump</td>\n",
       "      <td>movie</td>\n",
       "      <td>Drama, Romance</td>\n",
       "      <td>1970.0</td>\n",
       "      <td>tt0109830</td>\n",
       "      <td>8.8</td>\n",
       "      <td>2387933.0</td>\n",
       "      <td>NaN</td>\n",
       "    </tr>\n",
       "    <tr>\n",
       "      <th>3</th>\n",
       "      <td>American Beauty</td>\n",
       "      <td>movie</td>\n",
       "      <td>Drama</td>\n",
       "      <td>1970.0</td>\n",
       "      <td>tt0169547</td>\n",
       "      <td>8.3</td>\n",
       "      <td>1251509.0</td>\n",
       "      <td>NaN</td>\n",
       "    </tr>\n",
       "    <tr>\n",
       "      <th>4</th>\n",
       "      <td>The Fifth Element</td>\n",
       "      <td>movie</td>\n",
       "      <td>Action, Adventure, Sci-Fi</td>\n",
       "      <td>1970.0</td>\n",
       "      <td>tt0119116</td>\n",
       "      <td>7.6</td>\n",
       "      <td>528480.0</td>\n",
       "      <td>NaN</td>\n",
       "    </tr>\n",
       "  </tbody>\n",
       "</table>\n",
       "</div>"
      ],
      "text/plain": [
       "                 title   type                     genres  releaseYear  \\\n",
       "0                Ariel  movie       Comedy, Crime, Drama       1970.0   \n",
       "1  Shadows in Paradise  movie       Comedy, Drama, Music       1970.0   \n",
       "2         Forrest Gump  movie             Drama, Romance       1970.0   \n",
       "3      American Beauty  movie                      Drama       1970.0   \n",
       "4    The Fifth Element  movie  Action, Adventure, Sci-Fi       1970.0   \n",
       "\n",
       "      imdbId  imdbAverageRating  imdbNumVotes availableCountries  \n",
       "0  tt0094675                7.4        9229.0                NaN  \n",
       "1  tt0092149                7.4        8058.0                NaN  \n",
       "2  tt0109830                8.8     2387933.0                NaN  \n",
       "3  tt0169547                8.3     1251509.0                NaN  \n",
       "4  tt0119116                7.6      528480.0                NaN  "
      ]
     },
     "execution_count": 19,
     "metadata": {},
     "output_type": "execute_result"
    }
   ],
   "source": [
    "df.head()"
   ]
  },
  {
   "cell_type": "code",
   "execution_count": 27,
   "id": "324429a1",
   "metadata": {},
   "outputs": [
    {
     "name": "stdout",
     "output_type": "stream",
     "text": [
      "Index(['title', 'genres', 'releaseYear', 'imdbAverageRating', 'imdbNumVotes'], dtype='object')\n"
     ]
    }
   ],
   "source": [
    "# List of columns you want to drop\n",
    "cols_to_drop = ['type', 'imdbId', 'availableCountries']\n",
    "\n",
    "# Only keep columns that actually exist in df\n",
    "existing_cols = [col for col in cols_to_drop if col in df.columns]\n",
    "\n",
    "# Drop them safely\n",
    "df.drop(existing_cols, axis=1, inplace=True)\n",
    "\n",
    "# View remaining columns\n",
    "print(df.columns)\n"
   ]
  },
  {
   "cell_type": "code",
   "execution_count": 28,
   "id": "b2b7ceea",
   "metadata": {},
   "outputs": [
    {
     "data": {
      "text/html": [
       "<div>\n",
       "<style scoped>\n",
       "    .dataframe tbody tr th:only-of-type {\n",
       "        vertical-align: middle;\n",
       "    }\n",
       "\n",
       "    .dataframe tbody tr th {\n",
       "        vertical-align: top;\n",
       "    }\n",
       "\n",
       "    .dataframe thead th {\n",
       "        text-align: right;\n",
       "    }\n",
       "</style>\n",
       "<table border=\"1\" class=\"dataframe\">\n",
       "  <thead>\n",
       "    <tr style=\"text-align: right;\">\n",
       "      <th></th>\n",
       "      <th>title</th>\n",
       "      <th>genres</th>\n",
       "      <th>releaseYear</th>\n",
       "      <th>imdbAverageRating</th>\n",
       "      <th>imdbNumVotes</th>\n",
       "    </tr>\n",
       "  </thead>\n",
       "  <tbody>\n",
       "    <tr>\n",
       "      <th>0</th>\n",
       "      <td>Ariel</td>\n",
       "      <td>Comedy, Crime, Drama</td>\n",
       "      <td>1970.0</td>\n",
       "      <td>7.4</td>\n",
       "      <td>9229.0</td>\n",
       "    </tr>\n",
       "    <tr>\n",
       "      <th>1</th>\n",
       "      <td>Shadows in Paradise</td>\n",
       "      <td>Comedy, Drama, Music</td>\n",
       "      <td>1970.0</td>\n",
       "      <td>7.4</td>\n",
       "      <td>8058.0</td>\n",
       "    </tr>\n",
       "    <tr>\n",
       "      <th>2</th>\n",
       "      <td>Forrest Gump</td>\n",
       "      <td>Drama, Romance</td>\n",
       "      <td>1970.0</td>\n",
       "      <td>8.8</td>\n",
       "      <td>2387933.0</td>\n",
       "    </tr>\n",
       "    <tr>\n",
       "      <th>3</th>\n",
       "      <td>American Beauty</td>\n",
       "      <td>Drama</td>\n",
       "      <td>1970.0</td>\n",
       "      <td>8.3</td>\n",
       "      <td>1251509.0</td>\n",
       "    </tr>\n",
       "    <tr>\n",
       "      <th>4</th>\n",
       "      <td>The Fifth Element</td>\n",
       "      <td>Action, Adventure, Sci-Fi</td>\n",
       "      <td>1970.0</td>\n",
       "      <td>7.6</td>\n",
       "      <td>528480.0</td>\n",
       "    </tr>\n",
       "  </tbody>\n",
       "</table>\n",
       "</div>"
      ],
      "text/plain": [
       "                 title                     genres  releaseYear  \\\n",
       "0                Ariel       Comedy, Crime, Drama       1970.0   \n",
       "1  Shadows in Paradise       Comedy, Drama, Music       1970.0   \n",
       "2         Forrest Gump             Drama, Romance       1970.0   \n",
       "3      American Beauty                      Drama       1970.0   \n",
       "4    The Fifth Element  Action, Adventure, Sci-Fi       1970.0   \n",
       "\n",
       "   imdbAverageRating  imdbNumVotes  \n",
       "0                7.4        9229.0  \n",
       "1                7.4        8058.0  \n",
       "2                8.8     2387933.0  \n",
       "3                8.3     1251509.0  \n",
       "4                7.6      528480.0  "
      ]
     },
     "execution_count": 28,
     "metadata": {},
     "output_type": "execute_result"
    }
   ],
   "source": [
    "df.head()"
   ]
  },
  {
   "cell_type": "code",
   "execution_count": null,
   "id": "20e533f1",
   "metadata": {},
   "outputs": [],
   "source": [
    "def catigorize_col(df, col, labels):\n",
    "\n",
    "    edges = [df[col].describe()['min'],\n",
    "    df[col].describe()['25%'],\n",
    "    df[col].describe()['50%'],\n",
    "    df[col].describe()['75%'],\n",
    "    df[col].describe()['max']]\n",
    "\n",
    "    df[col] = pd.cut(df[col], bins=edges, labels=labels, duplicates = 'drop')\n",
    "\n",
    "    return df"
   ]
  },
  {
   "cell_type": "code",
   "execution_count": 34,
   "id": "8fa224bf",
   "metadata": {},
   "outputs": [
    {
     "data": {
      "text/plain": [
       "['popular', 'average', 'below_avg', 'not_popular', NaN]\n",
       "Categories (4, object): ['not_popular' < 'below_avg' < 'average' < 'popular']"
      ]
     },
     "execution_count": 34,
     "metadata": {},
     "output_type": "execute_result"
    }
   ],
   "source": [
    "labels = ['not_popular', 'below_avg', 'average', 'popular']\n",
    "catigorize_col(df, 'imdbAverageRating', labels)\n",
    "df['imdbAverageRating'].unique()"
   ]
  },
  {
   "cell_type": "code",
   "execution_count": 35,
   "id": "b606b8da",
   "metadata": {},
   "outputs": [
    {
     "data": {
      "text/html": [
       "<div>\n",
       "<style scoped>\n",
       "    .dataframe tbody tr th:only-of-type {\n",
       "        vertical-align: middle;\n",
       "    }\n",
       "\n",
       "    .dataframe tbody tr th {\n",
       "        vertical-align: top;\n",
       "    }\n",
       "\n",
       "    .dataframe thead th {\n",
       "        text-align: right;\n",
       "    }\n",
       "</style>\n",
       "<table border=\"1\" class=\"dataframe\">\n",
       "  <thead>\n",
       "    <tr style=\"text-align: right;\">\n",
       "      <th></th>\n",
       "      <th>title</th>\n",
       "      <th>genres</th>\n",
       "      <th>releaseYear</th>\n",
       "      <th>imdbAverageRating</th>\n",
       "      <th>imdbNumVotes</th>\n",
       "    </tr>\n",
       "  </thead>\n",
       "  <tbody>\n",
       "    <tr>\n",
       "      <th>0</th>\n",
       "      <td>Ariel</td>\n",
       "      <td>Comedy, Crime, Drama</td>\n",
       "      <td>1970.0</td>\n",
       "      <td>popular</td>\n",
       "      <td>9229.0</td>\n",
       "    </tr>\n",
       "    <tr>\n",
       "      <th>1</th>\n",
       "      <td>Shadows in Paradise</td>\n",
       "      <td>Comedy, Drama, Music</td>\n",
       "      <td>1970.0</td>\n",
       "      <td>popular</td>\n",
       "      <td>8058.0</td>\n",
       "    </tr>\n",
       "    <tr>\n",
       "      <th>2</th>\n",
       "      <td>Forrest Gump</td>\n",
       "      <td>Drama, Romance</td>\n",
       "      <td>1970.0</td>\n",
       "      <td>popular</td>\n",
       "      <td>2387933.0</td>\n",
       "    </tr>\n",
       "    <tr>\n",
       "      <th>3</th>\n",
       "      <td>American Beauty</td>\n",
       "      <td>Drama</td>\n",
       "      <td>1970.0</td>\n",
       "      <td>popular</td>\n",
       "      <td>1251509.0</td>\n",
       "    </tr>\n",
       "    <tr>\n",
       "      <th>4</th>\n",
       "      <td>The Fifth Element</td>\n",
       "      <td>Action, Adventure, Sci-Fi</td>\n",
       "      <td>1970.0</td>\n",
       "      <td>popular</td>\n",
       "      <td>528480.0</td>\n",
       "    </tr>\n",
       "  </tbody>\n",
       "</table>\n",
       "</div>"
      ],
      "text/plain": [
       "                 title                     genres  releaseYear  \\\n",
       "0                Ariel       Comedy, Crime, Drama       1970.0   \n",
       "1  Shadows in Paradise       Comedy, Drama, Music       1970.0   \n",
       "2         Forrest Gump             Drama, Romance       1970.0   \n",
       "3      American Beauty                      Drama       1970.0   \n",
       "4    The Fifth Element  Action, Adventure, Sci-Fi       1970.0   \n",
       "\n",
       "  imdbAverageRating  imdbNumVotes  \n",
       "0           popular        9229.0  \n",
       "1           popular        8058.0  \n",
       "2           popular     2387933.0  \n",
       "3           popular     1251509.0  \n",
       "4           popular      528480.0  "
      ]
     },
     "execution_count": 35,
     "metadata": {},
     "output_type": "execute_result"
    }
   ],
   "source": [
    "df.head()"
   ]
  },
  {
   "cell_type": "code",
   "execution_count": 36,
   "id": "a60ae772",
   "metadata": {},
   "outputs": [
    {
     "data": {
      "text/plain": [
       "imdbAverageRating\n",
       "below_avg      5538\n",
       "average        5136\n",
       "not_popular    5032\n",
       "popular        4376\n",
       "Name: count, dtype: int64"
      ]
     },
     "execution_count": 36,
     "metadata": {},
     "output_type": "execute_result"
    }
   ],
   "source": [
    "df['imdbAverageRating'].value_counts()"
   ]
  },
  {
   "cell_type": "code",
   "execution_count": 37,
   "id": "005a9b61",
   "metadata": {},
   "outputs": [
    {
     "data": {
      "text/plain": [
       "title                0\n",
       "genres               0\n",
       "releaseYear          0\n",
       "imdbAverageRating    0\n",
       "imdbNumVotes         0\n",
       "dtype: int64"
      ]
     },
     "execution_count": 37,
     "metadata": {},
     "output_type": "execute_result"
    }
   ],
   "source": [
    "df.dropna(inplace = True)\n",
    "df.isna().sum()"
   ]
  },
  {
   "cell_type": "code",
   "execution_count": 46,
   "id": "7c88fa30",
   "metadata": {},
   "outputs": [
    {
     "name": "stdout",
     "output_type": "stream",
     "text": [
      "                  title     genres  releaseYear imdbAverageRating  \\\n",
      "0                 Ariel     Comedy       1970.0           popular   \n",
      "1                 Ariel      Crime       1970.0           popular   \n",
      "2                 Ariel      Drama       1970.0           popular   \n",
      "3   Shadows in Paradise     Comedy       1970.0           popular   \n",
      "4   Shadows in Paradise      Drama       1970.0           popular   \n",
      "5   Shadows in Paradise      Music       1970.0           popular   \n",
      "6          Forrest Gump      Drama       1970.0           popular   \n",
      "7          Forrest Gump    Romance       1970.0           popular   \n",
      "8       American Beauty      Drama       1970.0           popular   \n",
      "9     The Fifth Element     Action       1970.0           popular   \n",
      "10    The Fifth Element  Adventure       1970.0           popular   \n",
      "11    The Fifth Element     Sci-Fi       1970.0           popular   \n",
      "\n",
      "    imdbNumVotes  \n",
      "0         9229.0  \n",
      "1         9229.0  \n",
      "2         9229.0  \n",
      "3         8058.0  \n",
      "4         8058.0  \n",
      "5         8058.0  \n",
      "6      2387933.0  \n",
      "7      2387933.0  \n",
      "8      1251509.0  \n",
      "9       528480.0  \n",
      "10      528480.0  \n",
      "11      528480.0  \n"
     ]
    }
   ],
   "source": [
    "df['genres'] = df['genres'].str.split(', ')\n",
    "df = df.explode('genres').reset_index(drop=True)\n",
    "print(df)"
   ]
  },
  {
   "cell_type": "code",
   "execution_count": 47,
   "id": "925a78b6",
   "metadata": {},
   "outputs": [
    {
     "data": {
      "text/plain": [
       "CategoricalDtype(categories=['Action', 'Adventure', 'Comedy', 'Crime', 'Drama', 'Music',\n",
       "                  'Romance', 'Sci-Fi'],\n",
       ", ordered=False, categories_dtype=object)"
      ]
     },
     "execution_count": 47,
     "metadata": {},
     "output_type": "execute_result"
    }
   ],
   "source": [
    "df['genres'] = df['genres'].astype('category')\n",
    "df['genres'].dtypes\n"
   ]
  },
  {
   "cell_type": "code",
   "execution_count": null,
   "id": "eebe44e5",
   "metadata": {},
   "outputs": [
    {
     "name": "stdout",
     "output_type": "stream",
     "text": [
      "<class 'pandas.core.frame.DataFrame'>\n",
      "RangeIndex: 12 entries, 0 to 11\n",
      "Data columns (total 5 columns):\n",
      " #   Column             Non-Null Count  Dtype   \n",
      "---  ------             --------------  -----   \n",
      " 0   title              12 non-null     object  \n",
      " 1   genres             12 non-null     category\n",
      " 2   releaseYear        12 non-null     float64 \n",
      " 3   imdbAverageRating  12 non-null     object  \n",
      " 4   imdbNumVotes       12 non-null     float64 \n",
      "dtypes: category(1), float64(2), object(2)\n",
      "memory usage: 892.0+ bytes\n"
     ]
    }
   ],
   "source": [
    "df.info()"
   ]
  },
  {
   "cell_type": "code",
   "execution_count": 49,
   "id": "a5a216a6",
   "metadata": {},
   "outputs": [
    {
     "data": {
      "text/plain": [
       "title                5\n",
       "genres               8\n",
       "releaseYear          1\n",
       "imdbAverageRating    1\n",
       "imdbNumVotes         5\n",
       "dtype: int64"
      ]
     },
     "execution_count": 49,
     "metadata": {},
     "output_type": "execute_result"
    }
   ],
   "source": [
    "df.nunique()"
   ]
  },
  {
   "cell_type": "code",
   "execution_count": 50,
   "id": "585aa76e",
   "metadata": {},
   "outputs": [
    {
     "data": {
      "text/html": [
       "<div>\n",
       "<style scoped>\n",
       "    .dataframe tbody tr th:only-of-type {\n",
       "        vertical-align: middle;\n",
       "    }\n",
       "\n",
       "    .dataframe tbody tr th {\n",
       "        vertical-align: top;\n",
       "    }\n",
       "\n",
       "    .dataframe thead th {\n",
       "        text-align: right;\n",
       "    }\n",
       "</style>\n",
       "<table border=\"1\" class=\"dataframe\">\n",
       "  <thead>\n",
       "    <tr style=\"text-align: right;\">\n",
       "      <th></th>\n",
       "      <th>title</th>\n",
       "      <th>genres</th>\n",
       "      <th>releaseYear</th>\n",
       "      <th>imdbAverageRating</th>\n",
       "      <th>imdbNumVotes</th>\n",
       "    </tr>\n",
       "  </thead>\n",
       "  <tbody>\n",
       "    <tr>\n",
       "      <th>0</th>\n",
       "      <td>Ariel</td>\n",
       "      <td>Comedy</td>\n",
       "      <td>1970.0</td>\n",
       "      <td>popular</td>\n",
       "      <td>9229.0</td>\n",
       "    </tr>\n",
       "    <tr>\n",
       "      <th>1</th>\n",
       "      <td>Ariel</td>\n",
       "      <td>Crime</td>\n",
       "      <td>1970.0</td>\n",
       "      <td>popular</td>\n",
       "      <td>9229.0</td>\n",
       "    </tr>\n",
       "    <tr>\n",
       "      <th>2</th>\n",
       "      <td>Ariel</td>\n",
       "      <td>Drama</td>\n",
       "      <td>1970.0</td>\n",
       "      <td>popular</td>\n",
       "      <td>9229.0</td>\n",
       "    </tr>\n",
       "    <tr>\n",
       "      <th>3</th>\n",
       "      <td>Shadows in Paradise</td>\n",
       "      <td>Comedy</td>\n",
       "      <td>1970.0</td>\n",
       "      <td>popular</td>\n",
       "      <td>8058.0</td>\n",
       "    </tr>\n",
       "    <tr>\n",
       "      <th>4</th>\n",
       "      <td>Shadows in Paradise</td>\n",
       "      <td>Drama</td>\n",
       "      <td>1970.0</td>\n",
       "      <td>popular</td>\n",
       "      <td>8058.0</td>\n",
       "    </tr>\n",
       "  </tbody>\n",
       "</table>\n",
       "</div>"
      ],
      "text/plain": [
       "                 title  genres  releaseYear imdbAverageRating  imdbNumVotes\n",
       "0                Ariel  Comedy       1970.0           popular        9229.0\n",
       "1                Ariel   Crime       1970.0           popular        9229.0\n",
       "2                Ariel   Drama       1970.0           popular        9229.0\n",
       "3  Shadows in Paradise  Comedy       1970.0           popular        8058.0\n",
       "4  Shadows in Paradise   Drama       1970.0           popular        8058.0"
      ]
     },
     "execution_count": 50,
     "metadata": {},
     "output_type": "execute_result"
    }
   ],
   "source": [
    "df.head()"
   ]
  },
  {
   "cell_type": "code",
   "execution_count": null,
   "id": "09986ab5",
   "metadata": {},
   "outputs": [],
   "source": [
    "sns.set_style('whitegride')"
   ]
  },
  {
   "cell_type": "code",
   "execution_count": 52,
   "id": "bd6e9302",
   "metadata": {},
   "outputs": [
    {
     "data": {
      "text/plain": [
       "count        12\n",
       "unique        8\n",
       "top       Drama\n",
       "freq          4\n",
       "Name: genres, dtype: object"
      ]
     },
     "execution_count": 52,
     "metadata": {},
     "output_type": "execute_result"
    }
   ],
   "source": [
    "df['genres'].describe()\n"
   ]
  },
  {
   "cell_type": "code",
   "execution_count": 59,
   "id": "e65c3d27",
   "metadata": {},
   "outputs": [
    {
     "data": {
      "image/png": "[encoded data removed]",
      "text/plain": [
       "<Figure size 511.111x500 with 1 Axes>"
      ]
     },
     "metadata": {},
     "output_type": "display_data"
    }
   ],
   "source": [
    "\n",
    "sns.catplot(y = 'genres', data = df, kind = 'count',\n",
    "            order = df['genres'].value_counts().index,\n",
    "             color = '#4287f5' )\n",
    "plt.title('genres column distribution')\n",
    "plt.show()"
   ]
  },
  {
   "cell_type": "code",
   "execution_count": 61,
   "id": "67d1362e",
   "metadata": {},
   "outputs": [
    {
     "data": {
      "image/png": "[encoded data removed]",
      "text/plain": [
       "<Figure size 511.111x500 with 1 Axes>"
      ]
     },
     "metadata": {},
     "output_type": "display_data"
    }
   ],
   "source": [
    "sns.catplot(y = 'imdbAverageRating', data = df, kind = 'count',\n",
    "            order = df['imdbAverageRating'].value_counts().index,\n",
    "            color = '#4207f5')\n",
    "plt.title('votes distribution')\n",
    "plt.show()"
   ]
  }
 ],
 "metadata": {
  "kernelspec": {
   "display_name": "Python 3",
   "language": "python",
   "name": "python3"
  },
  "language_info": {
   "codemirror_mode": {
    "name": "ipython",
    "version": 3
   },
   "file_extension": ".py",
   "mimetype": "text/x-python",
   "name": "python",
   "nbconvert_exporter": "python",
   "pygments_lexer": "ipython3",
   "version": "3.12.3"
  }
 },
 "nbformat": 4,
 "nbformat_minor": 5
}
